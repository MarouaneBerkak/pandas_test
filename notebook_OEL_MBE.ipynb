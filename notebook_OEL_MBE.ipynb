{
 "cells": [
  {
   "cell_type": "code",
   "execution_count": 1,
   "metadata": {},
   "outputs": [],
   "source": [
    "import numpy as np\n",
    "import pandas as pd\n",
    "import matplotlib.pyplot as plt\n",
    "import seaborn as sns\n",
    "%matplotlib inline"
   ]
  },
  {
   "cell_type": "code",
   "execution_count": 2,
   "metadata": {
    "scrolled": false
   },
   "outputs": [],
   "source": [
    "# 1\n",
    "dfcom = pd.read_excel('RGPH2014_Commune.xlsx')"
   ]
  },
  {
   "cell_type": "code",
   "execution_count": 3,
   "metadata": {},
   "outputs": [],
   "source": [
    "# Supprimer les entrées contenants au moins 50% des données manquantes\n",
    "dfcom.dropna(thresh=(1/2)*dfcom.shape[1], inplace=True)\n",
    "dfcom.drop(dfcom[dfcom['code_ac']==0].index, inplace=True)"
   ]
  },
  {
   "cell_type": "code",
   "execution_count": 4,
   "metadata": {},
   "outputs": [
    {
     "data": {
      "text/plain": [
       "(1687, 125)"
      ]
     },
     "execution_count": 4,
     "metadata": {},
     "output_type": "execute_result"
    }
   ],
   "source": [
    "# 2\n",
    "dfcom.shape"
   ]
  },
  {
   "cell_type": "code",
   "execution_count": 5,
   "metadata": {},
   "outputs": [
    {
     "data": {
      "text/html": [
       "<div>\n",
       "<style scoped>\n",
       "    .dataframe tbody tr th:only-of-type {\n",
       "        vertical-align: middle;\n",
       "    }\n",
       "\n",
       "    .dataframe tbody tr th {\n",
       "        vertical-align: top;\n",
       "    }\n",
       "\n",
       "    .dataframe thead th {\n",
       "        text-align: right;\n",
       "    }\n",
       "</style>\n",
       "<table border=\"1\" class=\"dataframe\">\n",
       "  <thead>\n",
       "    <tr style=\"text-align: right;\">\n",
       "      <th></th>\n",
       "      <th>OBJECTID</th>\n",
       "      <th>nom_region</th>\n",
       "      <th>code_region</th>\n",
       "      <th>nom_province</th>\n",
       "      <th>code_province</th>\n",
       "      <th>nom_cercle</th>\n",
       "      <th>code_cercle</th>\n",
       "      <th>nom_commune</th>\n",
       "      <th>code_commune</th>\n",
       "      <th>nom_centre</th>\n",
       "      <th>...</th>\n",
       "      <th>IPP2004_T</th>\n",
       "      <th>IPM2004_T</th>\n",
       "      <th>DPSP_Educ2</th>\n",
       "      <th>DPSP_sante</th>\n",
       "      <th>DPSP_AEEA2</th>\n",
       "      <th>DPSP_Clog2</th>\n",
       "      <th>DFP_Pmon_u</th>\n",
       "      <th>DFP_Pmul_u</th>\n",
       "      <th>DFP_ND_MM_</th>\n",
       "      <th>TPG2014_T</th>\n",
       "    </tr>\n",
       "  </thead>\n",
       "  <tbody>\n",
       "    <tr>\n",
       "      <th>0</th>\n",
       "      <td>1.0</td>\n",
       "      <td>Marrakech-Safi</td>\n",
       "      <td>7.0</td>\n",
       "      <td>Chichaoua</td>\n",
       "      <td>161.0</td>\n",
       "      <td>Chichaoua</td>\n",
       "      <td>3.0</td>\n",
       "      <td>Sid LMokhtar</td>\n",
       "      <td>16103113.0</td>\n",
       "      <td>Sid LMokhtar</td>\n",
       "      <td>...</td>\n",
       "      <td>8.457180</td>\n",
       "      <td>40.777008</td>\n",
       "      <td>62.889022</td>\n",
       "      <td>17.733411</td>\n",
       "      <td>10.804462</td>\n",
       "      <td>8.573106</td>\n",
       "      <td>1.41095</td>\n",
       "      <td>4.68346</td>\n",
       "      <td>0.783039</td>\n",
       "      <td>6.877449</td>\n",
       "    </tr>\n",
       "    <tr>\n",
       "      <th>1</th>\n",
       "      <td>2.0</td>\n",
       "      <td>Marrakech-Safi</td>\n",
       "      <td>7.0</td>\n",
       "      <td>Marrakech</td>\n",
       "      <td>351.0</td>\n",
       "      <td>LOUDAYA</td>\n",
       "      <td>5.0</td>\n",
       "      <td>Ait Imour</td>\n",
       "      <td>35105032.0</td>\n",
       "      <td></td>\n",
       "      <td>...</td>\n",
       "      <td>11.511656</td>\n",
       "      <td>41.367142</td>\n",
       "      <td>67.551315</td>\n",
       "      <td>13.375796</td>\n",
       "      <td>4.352441</td>\n",
       "      <td>14.720453</td>\n",
       "      <td>2.79230</td>\n",
       "      <td>7.92297</td>\n",
       "      <td>0.309491</td>\n",
       "      <td>11.024761</td>\n",
       "    </tr>\n",
       "    <tr>\n",
       "      <th>2</th>\n",
       "      <td>3.0</td>\n",
       "      <td>Marrakech-Safi</td>\n",
       "      <td>7.0</td>\n",
       "      <td>Essaouira</td>\n",
       "      <td>211.0</td>\n",
       "      <td>TAMANAR</td>\n",
       "      <td>5.0</td>\n",
       "      <td>Bizdad</td>\n",
       "      <td>21105112.0</td>\n",
       "      <td></td>\n",
       "      <td>...</td>\n",
       "      <td>30.337774</td>\n",
       "      <td>45.233658</td>\n",
       "      <td>62.800479</td>\n",
       "      <td>7.151443</td>\n",
       "      <td>15.658388</td>\n",
       "      <td>14.389691</td>\n",
       "      <td>6.07098</td>\n",
       "      <td>21.91380</td>\n",
       "      <td>4.258560</td>\n",
       "      <td>32.243340</td>\n",
       "    </tr>\n",
       "    <tr>\n",
       "      <th>3</th>\n",
       "      <td>4.0</td>\n",
       "      <td>Marrakech-Safi</td>\n",
       "      <td>7.0</td>\n",
       "      <td>Essaouira</td>\n",
       "      <td>211.0</td>\n",
       "      <td>TAMANAR</td>\n",
       "      <td>5.0</td>\n",
       "      <td>Bouzemmour</td>\n",
       "      <td>21105132.0</td>\n",
       "      <td></td>\n",
       "      <td>...</td>\n",
       "      <td>45.628159</td>\n",
       "      <td>50.931080</td>\n",
       "      <td>48.984540</td>\n",
       "      <td>4.100492</td>\n",
       "      <td>24.378073</td>\n",
       "      <td>22.536895</td>\n",
       "      <td>6.92833</td>\n",
       "      <td>47.81570</td>\n",
       "      <td>13.225300</td>\n",
       "      <td>67.969330</td>\n",
       "    </tr>\n",
       "    <tr>\n",
       "      <th>4</th>\n",
       "      <td>5.0</td>\n",
       "      <td>Marrakech-Safi</td>\n",
       "      <td>7.0</td>\n",
       "      <td>Essaouira</td>\n",
       "      <td>211.0</td>\n",
       "      <td>TAMANAR</td>\n",
       "      <td>5.0</td>\n",
       "      <td>Ezzaouite</td>\n",
       "      <td>21105152.0</td>\n",
       "      <td></td>\n",
       "      <td>...</td>\n",
       "      <td>35.322727</td>\n",
       "      <td>46.790127</td>\n",
       "      <td>56.600684</td>\n",
       "      <td>4.678554</td>\n",
       "      <td>21.244341</td>\n",
       "      <td>17.476416</td>\n",
       "      <td>8.37407</td>\n",
       "      <td>31.93500</td>\n",
       "      <td>7.285920</td>\n",
       "      <td>47.594990</td>\n",
       "    </tr>\n",
       "    <tr>\n",
       "      <th>5</th>\n",
       "      <td>6.0</td>\n",
       "      <td>Marrakech-Safi</td>\n",
       "      <td>7.0</td>\n",
       "      <td>Essaouira</td>\n",
       "      <td>211.0</td>\n",
       "      <td>TAMANAR</td>\n",
       "      <td>5.0</td>\n",
       "      <td>Ida Ou Kazzou</td>\n",
       "      <td>21105212.0</td>\n",
       "      <td></td>\n",
       "      <td>...</td>\n",
       "      <td>38.527737</td>\n",
       "      <td>49.104725</td>\n",
       "      <td>45.472169</td>\n",
       "      <td>5.164775</td>\n",
       "      <td>28.805500</td>\n",
       "      <td>20.557556</td>\n",
       "      <td>10.19780</td>\n",
       "      <td>38.30940</td>\n",
       "      <td>14.133400</td>\n",
       "      <td>62.640600</td>\n",
       "    </tr>\n",
       "    <tr>\n",
       "      <th>6</th>\n",
       "      <td>7.0</td>\n",
       "      <td>Marrakech-Safi</td>\n",
       "      <td>7.0</td>\n",
       "      <td>Essaouira</td>\n",
       "      <td>211.0</td>\n",
       "      <td>ESSAOUIRA</td>\n",
       "      <td>3.0</td>\n",
       "      <td>Mzilate</td>\n",
       "      <td>21103232.0</td>\n",
       "      <td></td>\n",
       "      <td>...</td>\n",
       "      <td>30.900431</td>\n",
       "      <td>45.389957</td>\n",
       "      <td>56.177270</td>\n",
       "      <td>13.731575</td>\n",
       "      <td>15.787432</td>\n",
       "      <td>14.303723</td>\n",
       "      <td>3.92017</td>\n",
       "      <td>27.34620</td>\n",
       "      <td>5.321930</td>\n",
       "      <td>36.588300</td>\n",
       "    </tr>\n",
       "    <tr>\n",
       "      <th>7</th>\n",
       "      <td>8.0</td>\n",
       "      <td>Marrakech-Safi</td>\n",
       "      <td>7.0</td>\n",
       "      <td>Essaouira</td>\n",
       "      <td>211.0</td>\n",
       "      <td>ESSAOUIRA</td>\n",
       "      <td>3.0</td>\n",
       "      <td>Ounagha</td>\n",
       "      <td>21103312.0</td>\n",
       "      <td></td>\n",
       "      <td>...</td>\n",
       "      <td>25.320620</td>\n",
       "      <td>46.016071</td>\n",
       "      <td>56.479496</td>\n",
       "      <td>13.022082</td>\n",
       "      <td>16.561513</td>\n",
       "      <td>13.936909</td>\n",
       "      <td>2.30257</td>\n",
       "      <td>17.78200</td>\n",
       "      <td>1.879830</td>\n",
       "      <td>21.964400</td>\n",
       "    </tr>\n",
       "    <tr>\n",
       "      <th>8</th>\n",
       "      <td>9.0</td>\n",
       "      <td>Marrakech-Safi</td>\n",
       "      <td>7.0</td>\n",
       "      <td>Al Haouz</td>\n",
       "      <td>41.0</td>\n",
       "      <td>ASNI</td>\n",
       "      <td>7.0</td>\n",
       "      <td>Aghbar</td>\n",
       "      <td>4107012.0</td>\n",
       "      <td></td>\n",
       "      <td>...</td>\n",
       "      <td>41.572628</td>\n",
       "      <td>46.964127</td>\n",
       "      <td>66.877496</td>\n",
       "      <td>6.350845</td>\n",
       "      <td>10.481477</td>\n",
       "      <td>16.290176</td>\n",
       "      <td>4.18757</td>\n",
       "      <td>19.78000</td>\n",
       "      <td>1.428020</td>\n",
       "      <td>25.395590</td>\n",
       "    </tr>\n",
       "    <tr>\n",
       "      <th>9</th>\n",
       "      <td>10.0</td>\n",
       "      <td>Marrakech-Safi</td>\n",
       "      <td>7.0</td>\n",
       "      <td>Chichaoua</td>\n",
       "      <td>161.0</td>\n",
       "      <td>CHICHAOUA</td>\n",
       "      <td>3.0</td>\n",
       "      <td>Sid LMokhtar</td>\n",
       "      <td>16103112.0</td>\n",
       "      <td></td>\n",
       "      <td>...</td>\n",
       "      <td>26.795033</td>\n",
       "      <td>44.446735</td>\n",
       "      <td>57.479370</td>\n",
       "      <td>17.064697</td>\n",
       "      <td>11.940946</td>\n",
       "      <td>13.514979</td>\n",
       "      <td>3.38334</td>\n",
       "      <td>12.62450</td>\n",
       "      <td>1.368660</td>\n",
       "      <td>17.376500</td>\n",
       "    </tr>\n",
       "  </tbody>\n",
       "</table>\n",
       "<p>10 rows × 125 columns</p>\n",
       "</div>"
      ],
      "text/plain": [
       "   OBJECTID      nom_region  code_region nom_province  code_province  \\\n",
       "0       1.0  Marrakech-Safi          7.0    Chichaoua          161.0   \n",
       "1       2.0  Marrakech-Safi          7.0    Marrakech          351.0   \n",
       "2       3.0  Marrakech-Safi          7.0    Essaouira          211.0   \n",
       "3       4.0  Marrakech-Safi          7.0    Essaouira          211.0   \n",
       "4       5.0  Marrakech-Safi          7.0    Essaouira          211.0   \n",
       "5       6.0  Marrakech-Safi          7.0    Essaouira          211.0   \n",
       "6       7.0  Marrakech-Safi          7.0    Essaouira          211.0   \n",
       "7       8.0  Marrakech-Safi          7.0    Essaouira          211.0   \n",
       "8       9.0  Marrakech-Safi          7.0     Al Haouz           41.0   \n",
       "9      10.0  Marrakech-Safi          7.0    Chichaoua          161.0   \n",
       "\n",
       "  nom_cercle  code_cercle    nom_commune  code_commune    nom_centre  ...  \\\n",
       "0  Chichaoua          3.0   Sid LMokhtar    16103113.0  Sid LMokhtar  ...   \n",
       "1    LOUDAYA          5.0      Ait Imour    35105032.0                ...   \n",
       "2    TAMANAR          5.0         Bizdad    21105112.0                ...   \n",
       "3    TAMANAR          5.0     Bouzemmour    21105132.0                ...   \n",
       "4    TAMANAR          5.0      Ezzaouite    21105152.0                ...   \n",
       "5    TAMANAR          5.0  Ida Ou Kazzou    21105212.0                ...   \n",
       "6  ESSAOUIRA          3.0        Mzilate    21103232.0                ...   \n",
       "7  ESSAOUIRA          3.0        Ounagha    21103312.0                ...   \n",
       "8       ASNI          7.0         Aghbar     4107012.0                ...   \n",
       "9  CHICHAOUA          3.0   Sid LMokhtar    16103112.0                ...   \n",
       "\n",
       "   IPP2004_T  IPM2004_T  DPSP_Educ2  DPSP_sante  DPSP_AEEA2  DPSP_Clog2  \\\n",
       "0   8.457180  40.777008   62.889022   17.733411   10.804462    8.573106   \n",
       "1  11.511656  41.367142   67.551315   13.375796    4.352441   14.720453   \n",
       "2  30.337774  45.233658   62.800479    7.151443   15.658388   14.389691   \n",
       "3  45.628159  50.931080   48.984540    4.100492   24.378073   22.536895   \n",
       "4  35.322727  46.790127   56.600684    4.678554   21.244341   17.476416   \n",
       "5  38.527737  49.104725   45.472169    5.164775   28.805500   20.557556   \n",
       "6  30.900431  45.389957   56.177270   13.731575   15.787432   14.303723   \n",
       "7  25.320620  46.016071   56.479496   13.022082   16.561513   13.936909   \n",
       "8  41.572628  46.964127   66.877496    6.350845   10.481477   16.290176   \n",
       "9  26.795033  44.446735   57.479370   17.064697   11.940946   13.514979   \n",
       "\n",
       "   DFP_Pmon_u  DFP_Pmul_u  DFP_ND_MM_  TPG2014_T  \n",
       "0     1.41095     4.68346    0.783039   6.877449  \n",
       "1     2.79230     7.92297    0.309491  11.024761  \n",
       "2     6.07098    21.91380    4.258560  32.243340  \n",
       "3     6.92833    47.81570   13.225300  67.969330  \n",
       "4     8.37407    31.93500    7.285920  47.594990  \n",
       "5    10.19780    38.30940   14.133400  62.640600  \n",
       "6     3.92017    27.34620    5.321930  36.588300  \n",
       "7     2.30257    17.78200    1.879830  21.964400  \n",
       "8     4.18757    19.78000    1.428020  25.395590  \n",
       "9     3.38334    12.62450    1.368660  17.376500  \n",
       "\n",
       "[10 rows x 125 columns]"
      ]
     },
     "execution_count": 5,
     "metadata": {},
     "output_type": "execute_result"
    }
   ],
   "source": [
    "# 3\n",
    "dfcom.head(10)"
   ]
  },
  {
   "cell_type": "code",
   "execution_count": 6,
   "metadata": {},
   "outputs": [
    {
     "data": {
      "text/plain": [
       "['OBJECTID',\n",
       " 'nom_region',\n",
       " 'code_region',\n",
       " 'nom_province',\n",
       " 'code_province',\n",
       " 'nom_cercle',\n",
       " 'code_cercle',\n",
       " 'nom_commune',\n",
       " 'code_commune',\n",
       " 'nom_centre',\n",
       " 'code_ac',\n",
       " 'densite',\n",
       " 'pop_t',\n",
       " 'pop_m',\n",
       " 'pop_f',\n",
       " 'mq_t',\n",
       " 'mq_m',\n",
       " 'mq_f',\n",
       " 'qcq_t',\n",
       " 'qcq_m']"
      ]
     },
     "execution_count": 6,
     "metadata": {},
     "output_type": "execute_result"
    }
   ],
   "source": [
    "# 4\n",
    "list(dfcom)[0:20]"
   ]
  },
  {
   "cell_type": "code",
   "execution_count": 7,
   "metadata": {},
   "outputs": [
    {
     "data": {
      "text/plain": [
       "33610084.0"
      ]
     },
     "execution_count": 7,
     "metadata": {},
     "output_type": "execute_result"
    }
   ],
   "source": [
    "# 5_1 population municipale\n",
    "dfcom['pop_t'].sum()"
   ]
  },
  {
   "cell_type": "code",
   "execution_count": 8,
   "metadata": {},
   "outputs": [
    {
     "data": {
      "text/plain": [
       "16747522.0"
      ]
     },
     "execution_count": 8,
     "metadata": {},
     "output_type": "execute_result"
    }
   ],
   "source": [
    "# 5_2 popoluation masculine\n",
    "dfcom['pop_m'].sum()"
   ]
  },
  {
   "cell_type": "code",
   "execution_count": 9,
   "metadata": {},
   "outputs": [
    {
     "data": {
      "text/plain": [
       "16862562.0"
      ]
     },
     "execution_count": 9,
     "metadata": {},
     "output_type": "execute_result"
    }
   ],
   "source": [
    "# 5_3 population féminine\n",
    "dfcom['pop_f'].sum()"
   ]
  },
  {
   "cell_type": "code",
   "execution_count": 10,
   "metadata": {},
   "outputs": [
    {
     "data": {
      "text/plain": [
       "7313806.0"
      ]
     },
     "execution_count": 10,
     "metadata": {},
     "output_type": "execute_result"
    }
   ],
   "source": [
    "# 5_4 nombre de ménages\n",
    "# ménage: ensembe de personnes partageant le même logement et participant à son économie\n",
    "# il s'agit le plus souvent d'une famille ou d'une personne seule\n",
    "dfcom['NbMg_T'].sum()"
   ]
  },
  {
   "cell_type": "code",
   "execution_count": 11,
   "metadata": {},
   "outputs": [],
   "source": [
    "# 6\n",
    "# superficie = nb_hab/densité\n",
    "dfcom['superficie'] = dfcom['pop_t']/dfcom['densite']"
   ]
  },
  {
   "cell_type": "code",
   "execution_count": 12,
   "metadata": {},
   "outputs": [
    {
     "data": {
      "text/plain": [
       "Rural            1282\n",
       "Urbain            256\n",
       "Centre urbain     149\n",
       "Name: type_commune, dtype: int64"
      ]
     },
     "execution_count": 12,
     "metadata": {},
     "output_type": "execute_result"
    }
   ],
   "source": [
    "# 7\n",
    "dfcom['type_commune'] = ['Centre urbain' if x in [3, 4, 5] else \n",
    "                         'Urbain' if x==1 else \n",
    "                         'Rural' if x==2 else None for x in dfcom['code_ac']]\n",
    "dfcom['type_commune'].value_counts()"
   ]
  },
  {
   "cell_type": "code",
   "execution_count": 13,
   "metadata": {},
   "outputs": [
    {
     "data": {
      "text/plain": [
       "1282"
      ]
     },
     "execution_count": 13,
     "metadata": {},
     "output_type": "execute_result"
    }
   ],
   "source": [
    "# 8_1 nombre de communes rurales\n",
    "dfcom['type_commune'][dfcom['type_commune']=='Rural'].count()"
   ]
  },
  {
   "cell_type": "code",
   "execution_count": 14,
   "metadata": {},
   "outputs": [
    {
     "data": {
      "text/plain": [
       "149"
      ]
     },
     "execution_count": 14,
     "metadata": {},
     "output_type": "execute_result"
    }
   ],
   "source": [
    "# 8_2 nombre de centre urbains\n",
    "dfcom['type_commune'][dfcom['type_commune']=='Centre urbain'].count()"
   ]
  },
  {
   "cell_type": "code",
   "execution_count": 15,
   "metadata": {
    "scrolled": true
   },
   "outputs": [
    {
     "data": {
      "text/plain": [
       "45"
      ]
     },
     "execution_count": 15,
     "metadata": {},
     "output_type": "execute_result"
    }
   ],
   "source": [
    "# 9 nombre de communes rurales ayant une population inférieure à la population de leur centre urbain\n",
    "# Attention \"Sidi Abdellah Ghiat\" vs \"Sidi Abdallah Ghiat\"\n",
    "# Si commune rurale a plusieurs centres urbain, il faut sommer le nb habitant des centres\n",
    "centre_urbain = dfcom['code_commune'][dfcom['type_commune']=='Centre urbain']\n",
    "counter = 0\n",
    "df_temp = pd.DataFrame(columns=['commune_rurale', 'centre_urbain'])\n",
    "for c in centre_urbain:\n",
    "    commune_rurale_code = int(str(int(c))[:-1] + '2')\n",
    "    nb_pop_centre = dfcom['pop_t'][dfcom['code_commune']==c].iloc[0]\n",
    "    nb_pop_commune = dfcom['pop_t'][dfcom['code_commune']==commune_rurale_code].iloc[0]\n",
    "    if nb_pop_commune < nb_pop_centre:\n",
    "        \n",
    "        df_temp = df_temp.append({'commune_rurale' : dfcom['nom_commune'][dfcom['code_commune']==commune_rurale_code].iloc[0],\n",
    "                                  'centre_urbain' : dfcom['nom_centre'][dfcom['code_commune']==c].iloc[0]}, ignore_index=True)\n",
    "        counter = counter + 1\n",
    "    \n",
    "counter\n",
    "#df_temp"
   ]
  },
  {
   "cell_type": "code",
   "execution_count": 16,
   "metadata": {},
   "outputs": [
    {
     "data": {
      "text/plain": [
       "3564.350575995111"
      ]
     },
     "execution_count": 16,
     "metadata": {},
     "output_type": "execute_result"
    }
   ],
   "source": [
    "# 10_1 moyenne communes urbaines\n",
    "dfcom['densite'][dfcom['type_commune']!='Rural'].mean()"
   ]
  },
  {
   "cell_type": "code",
   "execution_count": 17,
   "metadata": {},
   "outputs": [
    {
     "data": {
      "text/plain": [
       "73.2694881736884"
      ]
     },
     "execution_count": 17,
     "metadata": {},
     "output_type": "execute_result"
    }
   ],
   "source": [
    "# 10_2 moyenne communes rurales\n",
    "dfcom['densite'][(dfcom['type_commune']=='Rural')].mean()"
   ]
  },
  {
   "cell_type": "code",
   "execution_count": 18,
   "metadata": {},
   "outputs": [
    {
     "data": {
      "text/plain": [
       "5547.539984390151"
      ]
     },
     "execution_count": 18,
     "metadata": {},
     "output_type": "execute_result"
    }
   ],
   "source": [
    "# 10_3 écart-type communes urbaines\n",
    "dfcom['densite'][dfcom['type_commune']!='Rural'].std()"
   ]
  },
  {
   "cell_type": "code",
   "execution_count": 19,
   "metadata": {},
   "outputs": [
    {
     "data": {
      "text/plain": [
       "75.96848798374214"
      ]
     },
     "execution_count": 19,
     "metadata": {},
     "output_type": "execute_result"
    }
   ],
   "source": [
    "# 10_4 écart-type communes rurales\n",
    "dfcom['densite'][(dfcom['type_commune']=='Rural')].std()"
   ]
  },
  {
   "cell_type": "code",
   "execution_count": 20,
   "metadata": {},
   "outputs": [
    {
     "data": {
      "text/plain": [
       "1537"
      ]
     },
     "execution_count": 20,
     "metadata": {},
     "output_type": "execute_result"
    }
   ],
   "source": [
    "# 11_1 nombre de valeurs uniques\n",
    "dfcom['nom_commune'].nunique()"
   ]
  },
  {
   "cell_type": "code",
   "execution_count": 21,
   "metadata": {},
   "outputs": [
    {
     "data": {
      "text/plain": [
       "Moulay Abdallah    4\n",
       "Sidi Boubker       3\n",
       "Sidi Yahya Zaer    3\n",
       "Oulad Aissa        3\n",
       "Ajdir              3\n",
       "                  ..\n",
       "Berkane            1\n",
       "Tazouta            1\n",
       "Bni Rzine          1\n",
       "Argana             1\n",
       "Bouchane           1\n",
       "Name: nom_commune, Length: 1537, dtype: int64"
      ]
     },
     "execution_count": 21,
     "metadata": {},
     "output_type": "execute_result"
    }
   ],
   "source": [
    "# 11_2 nom des communes qui se répète le plus\n",
    "dfcom['nom_commune'].value_counts()"
   ]
  },
  {
   "cell_type": "code",
   "execution_count": 22,
   "metadata": {},
   "outputs": [
    {
     "data": {
      "text/plain": [
       "1675    El Marsa\n",
       "Name: nom_commune, dtype: object"
      ]
     },
     "execution_count": 22,
     "metadata": {},
     "output_type": "execute_result"
    }
   ],
   "source": [
    "# 12_1 commune avec le taux net d'activité le plus haut\n",
    "ta_max = dfcom.groupby('type_commune').max()['ta_t'].loc['Urbain']\n",
    "dfcom['nom_commune'][(dfcom['type_commune']=='Urbain') & (dfcom['ta_t']==ta_max)]"
   ]
  },
  {
   "cell_type": "code",
   "execution_count": 23,
   "metadata": {},
   "outputs": [
    {
     "data": {
      "text/plain": [
       "1676    Lagouira\n",
       "Name: nom_commune, dtype: object"
      ]
     },
     "execution_count": 23,
     "metadata": {},
     "output_type": "execute_result"
    }
   ],
   "source": [
    "# 12_2 commune avec le taux net d'activité le plus bas\n",
    "ta_min = dfcom.groupby('type_commune').min()['ta_t'].loc['Urbain']\n",
    "dfcom['nom_commune'][(dfcom['type_commune']=='Urbain') & (dfcom['ta_t']==ta_min)]"
   ]
  },
  {
   "cell_type": "code",
   "execution_count": 24,
   "metadata": {},
   "outputs": [
    {
     "data": {
      "text/plain": [
       "829"
      ]
     },
     "execution_count": 24,
     "metadata": {},
     "output_type": "execute_result"
    }
   ],
   "source": [
    "# 13\n",
    "len(dfcom['OBJECTID'][dfcom['ta_t']<dfcom['ta_t'].mean()])"
   ]
  },
  {
   "cell_type": "code",
   "execution_count": 25,
   "metadata": {},
   "outputs": [
    {
     "data": {
      "text/plain": [
       "424"
      ]
     },
     "execution_count": 25,
     "metadata": {},
     "output_type": "execute_result"
    }
   ],
   "source": [
    "# 14\n",
    "counter = 0\n",
    "for c in dfcom['nom_commune']:\n",
    "    if (c[0].lower() == 'a') or (c[2].lower() == 'a'):\n",
    "        counter = counter + 1\n",
    "        \n",
    "counter"
   ]
  },
  {
   "cell_type": "code",
   "execution_count": 26,
   "metadata": {},
   "outputs": [
    {
     "data": {
      "text/plain": [
       "424"
      ]
     },
     "execution_count": 26,
     "metadata": {},
     "output_type": "execute_result"
    }
   ],
   "source": [
    "# 14\n",
    "len([1 for c in dfcom['nom_commune'] if ((c[0].lower() == 'a') or (c[2].lower() == 'a'))])\n"
   ]
  },
  {
   "cell_type": "code",
   "execution_count": 27,
   "metadata": {},
   "outputs": [
    {
     "data": {
      "text/plain": [
       "424"
      ]
     },
     "execution_count": 27,
     "metadata": {},
     "output_type": "execute_result"
    }
   ],
   "source": [
    "# 14\n",
    "def cond_a(c):\n",
    "    if (c[0].lower() == 'a') or (c[2].lower() == 'a'):\n",
    "        return 1\n",
    "    else:\n",
    "        return 0\n",
    "dfcom['nom_commune'].apply(cond_a).sum()"
   ]
  },
  {
   "cell_type": "code",
   "execution_count": 28,
   "metadata": {
    "scrolled": false
   },
   "outputs": [
    {
     "name": "stdout",
     "output_type": "stream",
     "text": [
      "                Urbain  Rural  Ensemble\n",
      "Moins de 15ans    26.1   31.4      28.2\n",
      "15-59 ans         64.6   59.0      62.4\n",
      "60 ans et plus     9.3    9.7       9.4\n"
     ]
    },
    {
     "data": {
      "image/png": "[encoded data removed]",
      "text/plain": [
       "<Figure size 432x288 with 1 Axes>"
      ]
     },
     "metadata": {
      "needs_background": "light"
     },
     "output_type": "display_data"
    }
   ],
   "source": [
    "# 15\n",
    "cat_age = {'mq_t':'Moins de 15ans',\n",
    "           'qcq_t':'15-59 ans',\n",
    "           'soix_t':'60 ans et plus'}\n",
    "\n",
    "com_r_bool = dfcom['type_commune']=='Rural'\n",
    "\n",
    "pop_r = dfcom['pop_t'][com_r_bool].sum()\n",
    "pop_u = dfcom['pop_t'][~com_r_bool].sum()\n",
    "pop_e = pop_r + pop_u\n",
    "\n",
    "df_age = pd.DataFrame()\n",
    "\n",
    "for key, label in cat_age.items():\n",
    "    \n",
    "    pop_r_age = (dfcom['pop_t'][com_r_bool] * dfcom[key][com_r_bool]).sum()\n",
    "    pop_u_age = (dfcom['pop_t'][~com_r_bool] * dfcom[key][~com_r_bool]).sum()\n",
    "    pop_e_age = pop_r_age + pop_u_age\n",
    "    \n",
    "    df_age.loc['Urbain', label] = round(pop_u_age / pop_u, 1)\n",
    "    df_age.loc['Rural', label,] = round(pop_r_age / pop_r, 1)\n",
    "    df_age.loc['Ensemble', label] = round(pop_e_age / pop_e, 1)\n",
    "   \n",
    "print(df_age.T)\n",
    "\n",
    "fig = plt.figure()\n",
    "axes = fig.add_axes([0,0,2,1])\n",
    "\n",
    "df_age.plot.bar(ax=axes, edgecolor='gray')\n",
    "plt.ylabel('Population (%)')\n",
    "plt.xticks(rotation=-45)\n",
    "plt.title(label=\"Répartition de la population municipale\\nselon le grand groupe d'âges (%)\",\n",
    "          fontweight='bold')\n",
    "axes.set_axisbelow(True)\n",
    "axes.grid(alpha=0.2)\n",
    "plt.show()"
   ]
  },
  {
   "cell_type": "code",
   "execution_count": 29,
   "metadata": {
    "scrolled": false
   },
   "outputs": [
    {
     "data": {
      "image/png": "[encoded data removed]",
      "text/plain": [
       "<Figure size 432x288 with 1 Axes>"
      ]
     },
     "metadata": {},
     "output_type": "display_data"
    }
   ],
   "source": [
    "# 16 ménages urbains\n",
    "logement = {'villa_u':'Villa',\n",
    "            'mm_u':'Maison marocaine',\n",
    "            'appa_u':'Appartement',\n",
    "            'som_u':'Bidonville',\n",
    "            'rural_u':'Habitation rurale'}\n",
    "\n",
    "com_u_bool = dfcom['type_commune']!='Rural'\n",
    "nb_mg = dfcom['NbMg_T'][com_u_bool].sum()\n",
    "df_temp = pd.DataFrame()\n",
    "                       \n",
    "for key, label in logement.items():\n",
    "    nb_logement = (dfcom['NbMg_T'][com_u_bool] * dfcom[key][com_u_bool]).sum()                \n",
    "    df_temp.loc[label, 'logement'] = round(nb_logement / nb_mg, 1)\n",
    "\n",
    "\n",
    "df_temp['logement'].plot(kind='pie', autopct='%1.0f%%')\n",
    "plt.title(\"Répartition des ménages urbains\\npar type d’occupation de logement\", fontweight='bold')\n",
    "plt.ylabel('')\n",
    "plt.show()"
   ]
  },
  {
   "cell_type": "code",
   "execution_count": 30,
   "metadata": {
    "scrolled": false
   },
   "outputs": [
    {
     "data": {
      "image/png": "[encoded data removed]",
      "text/plain": [
       "<Figure size 432x288 with 1 Axes>"
      ]
     },
     "metadata": {
      "needs_background": "light"
     },
     "output_type": "display_data"
    }
   ],
   "source": [
    "# 17 taux net d'activité (ta_t) vs taux d'analphabétisme de la pop +10ans (anlph_t)\n",
    "# ta_t = f(anlph_t)\n",
    "fig = plt.figure()\n",
    "axes = fig.add_axes([0,0,2,1])\n",
    "\n",
    "dfcom.sort_values('anlph_t').plot.scatter(x='anlph_t', y='ta_t', alpha=0.4, ax=axes)\n",
    "plt.title(\"ta_t = f(anlph_t)\", fontweight=\"bold\")\n",
    "plt.xlabel(\"Taux d'analphabétisme (%)\")\n",
    "plt.ylabel(\"Taux net d'activité (%)\")\n",
    "axes.set_axisbelow(True)\n",
    "axes.grid(alpha=0.2)\n",
    "plt.show()\n"
   ]
  },
  {
   "cell_type": "code",
   "execution_count": 31,
   "metadata": {},
   "outputs": [
    {
     "name": "stdout",
     "output_type": "stream",
     "text": [
      "          Masculin    Féminin\n",
      "Urbain   97.335491  97.299753\n",
      "Rural    92.243652  89.195129\n",
      "Ensembe  93.466055  91.140815\n"
     ]
    },
    {
     "data": {
      "image/png": "[encoded data removed]",
      "text/plain": [
       "<Figure size 432x288 with 1 Axes>"
      ]
     },
     "metadata": {
      "needs_background": "light"
     },
     "output_type": "display_data"
    }
   ],
   "source": [
    "# 18\n",
    "# taux scolarisation des enfants (7-12): scol_t\n",
    "fig = plt.figure()\n",
    "axes = fig.add_axes([0,0,2,1])\n",
    "\n",
    "df_scol = pd.DataFrame()\n",
    "\n",
    "df_scol.loc['Urbain', 'Masculin'] = dfcom['scol_m'][com_u_bool].mean()\n",
    "df_scol.loc['Urbain', 'Féminin'] = dfcom['scol_f'][com_u_bool].mean()\n",
    "df_scol.loc['Rural', 'Masculin'] = dfcom['scol_m'][com_r_bool].mean()\n",
    "df_scol.loc['Rural', 'Féminin'] = dfcom['scol_f'][com_r_bool].mean()\n",
    "df_scol.loc['Ensembe', 'Masculin'] = dfcom['scol_m'].mean()\n",
    "df_scol.loc['Ensembe', 'Féminin'] = dfcom['scol_f'].mean()\n",
    "\n",
    "df_scol.plot.bar(ax=axes, color=['cyan', 'pink'], edgecolor='gray')\n",
    "plt.ylabel('taux de scolarisation')\n",
    "plt.xticks(rotation=-45)\n",
    "plt.title(label=\"Taux de scolarisation des enfants âgés de 7 à 12 ans\\n par mileu et par genre\",\n",
    "          fontweight='bold')\n",
    "axes.set_axisbelow(True)\n",
    "axes.grid(alpha=0.2)\n",
    "print(df_scol)\n",
    "plt.show()"
   ]
  },
  {
   "cell_type": "code",
   "execution_count": 32,
   "metadata": {},
   "outputs": [],
   "source": [
    "# 19"
   ]
  },
  {
   "cell_type": "code",
   "execution_count": 33,
   "metadata": {},
   "outputs": [
    {
     "data": {
      "text/plain": [
       "(1687, 76)"
      ]
     },
     "execution_count": 33,
     "metadata": {},
     "output_type": "execute_result"
    }
   ],
   "source": [
    "# 20\n",
    "\n",
    "dfcom_cln = dfcom.drop([col for col in dfcom.columns if col.endswith(('_u', '_r', '_m', '_f'))], axis=1)\n",
    "dfcom_cln.shape"
   ]
  },
  {
   "cell_type": "code",
   "execution_count": 34,
   "metadata": {},
   "outputs": [],
   "source": [
    "# 21\n",
    "dfcom_cln.to_excel('resultat_OEL_MBE.xlsx', sheet_name='commune', index=False)\n",
    "#del dfcom_cln"
   ]
  },
  {
   "cell_type": "code",
   "execution_count": 35,
   "metadata": {
    "scrolled": true
   },
   "outputs": [
    {
     "data": {
      "text/html": [
       "<div>\n",
       "<style scoped>\n",
       "    .dataframe tbody tr th:only-of-type {\n",
       "        vertical-align: middle;\n",
       "    }\n",
       "\n",
       "    .dataframe tbody tr th {\n",
       "        vertical-align: top;\n",
       "    }\n",
       "\n",
       "    .dataframe thead th {\n",
       "        text-align: right;\n",
       "    }\n",
       "</style>\n",
       "<table border=\"1\" class=\"dataframe\">\n",
       "  <thead>\n",
       "    <tr style=\"text-align: right;\">\n",
       "      <th></th>\n",
       "      <th>code_province</th>\n",
       "      <th>nom_province</th>\n",
       "      <th>pop_t</th>\n",
       "      <th>pop_u</th>\n",
       "      <th>pop_r</th>\n",
       "      <th>pop_m</th>\n",
       "      <th>pop_f</th>\n",
       "      <th>NbMg_T</th>\n",
       "      <th>NbMg_U</th>\n",
       "      <th>NbMg_R</th>\n",
       "      <th>eau_t</th>\n",
       "      <th>elec_t</th>\n",
       "    </tr>\n",
       "  </thead>\n",
       "  <tbody>\n",
       "    <tr>\n",
       "      <th>0</th>\n",
       "      <td>161.0</td>\n",
       "      <td>Chichaoua</td>\n",
       "      <td>369494.0</td>\n",
       "      <td>62218.0</td>\n",
       "      <td>307276.0</td>\n",
       "      <td>184472.0</td>\n",
       "      <td>185022.0</td>\n",
       "      <td>73928.0</td>\n",
       "      <td>13776.0</td>\n",
       "      <td>60152.0</td>\n",
       "      <td>55.543981</td>\n",
       "      <td>85.704015</td>\n",
       "    </tr>\n",
       "    <tr>\n",
       "      <th>1</th>\n",
       "      <td>351.0</td>\n",
       "      <td>Marrakech</td>\n",
       "      <td>1323005.0</td>\n",
       "      <td>974021.0</td>\n",
       "      <td>348984.0</td>\n",
       "      <td>654865.0</td>\n",
       "      <td>668140.0</td>\n",
       "      <td>302137.0</td>\n",
       "      <td>229063.0</td>\n",
       "      <td>73074.0</td>\n",
       "      <td>90.213455</td>\n",
       "      <td>94.143372</td>\n",
       "    </tr>\n",
       "    <tr>\n",
       "      <th>2</th>\n",
       "      <td>211.0</td>\n",
       "      <td>Essaouira</td>\n",
       "      <td>449133.0</td>\n",
       "      <td>105596.0</td>\n",
       "      <td>343537.0</td>\n",
       "      <td>225450.0</td>\n",
       "      <td>223683.0</td>\n",
       "      <td>95520.0</td>\n",
       "      <td>26873.0</td>\n",
       "      <td>68647.0</td>\n",
       "      <td>34.784701</td>\n",
       "      <td>81.149335</td>\n",
       "    </tr>\n",
       "    <tr>\n",
       "      <th>3</th>\n",
       "      <td>41.0</td>\n",
       "      <td>Al Haouz</td>\n",
       "      <td>571999.0</td>\n",
       "      <td>84205.0</td>\n",
       "      <td>487794.0</td>\n",
       "      <td>291795.0</td>\n",
       "      <td>280204.0</td>\n",
       "      <td>111627.0</td>\n",
       "      <td>18845.0</td>\n",
       "      <td>92782.0</td>\n",
       "      <td>80.024284</td>\n",
       "      <td>93.441302</td>\n",
       "    </tr>\n",
       "    <tr>\n",
       "      <th>4</th>\n",
       "      <td>191.0</td>\n",
       "      <td>El Kelaa des  Sraghna</td>\n",
       "      <td>535753.0</td>\n",
       "      <td>152649.0</td>\n",
       "      <td>383104.0</td>\n",
       "      <td>271904.0</td>\n",
       "      <td>263849.0</td>\n",
       "      <td>97874.0</td>\n",
       "      <td>31920.0</td>\n",
       "      <td>65954.0</td>\n",
       "      <td>86.916035</td>\n",
       "      <td>94.758909</td>\n",
       "    </tr>\n",
       "    <tr>\n",
       "      <th>...</th>\n",
       "      <td>...</td>\n",
       "      <td>...</td>\n",
       "      <td>...</td>\n",
       "      <td>...</td>\n",
       "      <td>...</td>\n",
       "      <td>...</td>\n",
       "      <td>...</td>\n",
       "      <td>...</td>\n",
       "      <td>...</td>\n",
       "      <td>...</td>\n",
       "      <td>...</td>\n",
       "      <td>...</td>\n",
       "    </tr>\n",
       "    <tr>\n",
       "      <th>70</th>\n",
       "      <td>321.0</td>\n",
       "      <td>Laayoune</td>\n",
       "      <td>232416.0</td>\n",
       "      <td>229979.0</td>\n",
       "      <td>2437.0</td>\n",
       "      <td>119122.0</td>\n",
       "      <td>113294.0</td>\n",
       "      <td>53561.0</td>\n",
       "      <td>52860.0</td>\n",
       "      <td>701.0</td>\n",
       "      <td>44.724792</td>\n",
       "      <td>62.541937</td>\n",
       "    </tr>\n",
       "    <tr>\n",
       "      <th>71</th>\n",
       "      <td>537.0</td>\n",
       "      <td>Tarfaya</td>\n",
       "      <td>13028.0</td>\n",
       "      <td>7986.0</td>\n",
       "      <td>5042.0</td>\n",
       "      <td>7158.0</td>\n",
       "      <td>5870.0</td>\n",
       "      <td>3393.0</td>\n",
       "      <td>2092.0</td>\n",
       "      <td>1301.0</td>\n",
       "      <td>61.295091</td>\n",
       "      <td>63.310010</td>\n",
       "    </tr>\n",
       "    <tr>\n",
       "      <th>72</th>\n",
       "      <td>121.0</td>\n",
       "      <td>Boujdour</td>\n",
       "      <td>44440.0</td>\n",
       "      <td>42504.0</td>\n",
       "      <td>1936.0</td>\n",
       "      <td>23857.0</td>\n",
       "      <td>20583.0</td>\n",
       "      <td>10186.0</td>\n",
       "      <td>9511.0</td>\n",
       "      <td>675.0</td>\n",
       "      <td>43.244294</td>\n",
       "      <td>49.090560</td>\n",
       "    </tr>\n",
       "    <tr>\n",
       "      <th>73</th>\n",
       "      <td>66.0</td>\n",
       "      <td>Aousserd</td>\n",
       "      <td>2396.0</td>\n",
       "      <td>0.0</td>\n",
       "      <td>2396.0</td>\n",
       "      <td>1836.0</td>\n",
       "      <td>560.0</td>\n",
       "      <td>776.0</td>\n",
       "      <td>0.0</td>\n",
       "      <td>776.0</td>\n",
       "      <td>15.462930</td>\n",
       "      <td>31.780567</td>\n",
       "    </tr>\n",
       "    <tr>\n",
       "      <th>74</th>\n",
       "      <td>391.0</td>\n",
       "      <td>Oued-Ed-Dahab</td>\n",
       "      <td>111625.0</td>\n",
       "      <td>102098.0</td>\n",
       "      <td>9527.0</td>\n",
       "      <td>64222.0</td>\n",
       "      <td>47403.0</td>\n",
       "      <td>28609.0</td>\n",
       "      <td>25469.0</td>\n",
       "      <td>3140.0</td>\n",
       "      <td>15.464083</td>\n",
       "      <td>16.279683</td>\n",
       "    </tr>\n",
       "  </tbody>\n",
       "</table>\n",
       "<p>75 rows × 12 columns</p>\n",
       "</div>"
      ],
      "text/plain": [
       "    code_province           nom_province      pop_t     pop_u     pop_r  \\\n",
       "0           161.0              Chichaoua   369494.0   62218.0  307276.0   \n",
       "1           351.0              Marrakech  1323005.0  974021.0  348984.0   \n",
       "2           211.0              Essaouira   449133.0  105596.0  343537.0   \n",
       "3            41.0               Al Haouz   571999.0   84205.0  487794.0   \n",
       "4           191.0  El Kelaa des  Sraghna   535753.0  152649.0  383104.0   \n",
       "..            ...                    ...        ...       ...       ...   \n",
       "70          321.0               Laayoune   232416.0  229979.0    2437.0   \n",
       "71          537.0                Tarfaya    13028.0    7986.0    5042.0   \n",
       "72          121.0               Boujdour    44440.0   42504.0    1936.0   \n",
       "73           66.0               Aousserd     2396.0       0.0    2396.0   \n",
       "74          391.0          Oued-Ed-Dahab   111625.0  102098.0    9527.0   \n",
       "\n",
       "       pop_m     pop_f    NbMg_T    NbMg_U   NbMg_R      eau_t     elec_t  \n",
       "0   184472.0  185022.0   73928.0   13776.0  60152.0  55.543981  85.704015  \n",
       "1   654865.0  668140.0  302137.0  229063.0  73074.0  90.213455  94.143372  \n",
       "2   225450.0  223683.0   95520.0   26873.0  68647.0  34.784701  81.149335  \n",
       "3   291795.0  280204.0  111627.0   18845.0  92782.0  80.024284  93.441302  \n",
       "4   271904.0  263849.0   97874.0   31920.0  65954.0  86.916035  94.758909  \n",
       "..       ...       ...       ...       ...      ...        ...        ...  \n",
       "70  119122.0  113294.0   53561.0   52860.0    701.0  44.724792  62.541937  \n",
       "71    7158.0    5870.0    3393.0    2092.0   1301.0  61.295091  63.310010  \n",
       "72   23857.0   20583.0   10186.0    9511.0    675.0  43.244294  49.090560  \n",
       "73    1836.0     560.0     776.0       0.0    776.0  15.462930  31.780567  \n",
       "74   64222.0   47403.0   28609.0   25469.0   3140.0  15.464083  16.279683  \n",
       "\n",
       "[75 rows x 12 columns]"
      ]
     },
     "execution_count": 35,
     "metadata": {},
     "output_type": "execute_result"
    }
   ],
   "source": [
    "# 22\n",
    "cols = ['code_province', 'nom_province', 'pop_t', 'pop_u', 'pop_r', 'pop_m', 'pop_f',\n",
    "        'NbMg_T', 'NbMg_U', 'NbMg_R', 'eau_t', 'elec_t']\n",
    "\n",
    "code_prov = dfcom['code_province'].unique()\n",
    "dfprov = pd.DataFrame(columns=cols)\n",
    "data = {}\n",
    "\n",
    "for code in code_prov:\n",
    "    \n",
    "    data['code_province'] = code\n",
    "    data['nom_province'] =  dfcom['nom_province'][(dfcom['code_province']==code)].iloc[0]\n",
    "    \n",
    "    data['pop_r'] = dfcom['pop_t'][(dfcom['code_province']==code) & (dfcom['type_commune'] == 'Rural')].sum()\n",
    "    data['pop_u'] = dfcom['pop_t'][(dfcom['code_province']==code) & (dfcom['type_commune'] != 'Rural')].sum()\n",
    "    data['pop_t'] = data['pop_r'] + data['pop_u']\n",
    "    \n",
    "    data['pop_m'] = dfcom['pop_m'][(dfcom['code_province']==code)].sum()\n",
    "    data['pop_f'] = dfcom['pop_f'][(dfcom['code_province']==code)].sum()\n",
    "    \n",
    "    data['NbMg_R'] = dfcom['NbMg_T'][(dfcom['code_province']==code) & (dfcom['type_commune'] == 'Rural')].sum()\n",
    "    data['NbMg_U'] = dfcom['NbMg_T'][(dfcom['code_province']==code) & (dfcom['type_commune'] != 'Rural')].sum()\n",
    "    data['NbMg_T'] = data['NbMg_R'] + data['NbMg_U'] \n",
    "    \n",
    "    data['eau_t'] = dfcom['eau_t'][(dfcom['code_province']==code)].mean()\n",
    "    data['elec_t'] = dfcom['elec_t'][(dfcom['code_province']==code)].mean()\n",
    "    \n",
    "    dfprov = dfprov.append(data, ignore_index=True)\n",
    "\n",
    "dfprov"
   ]
  },
  {
   "cell_type": "code",
   "execution_count": 36,
   "metadata": {},
   "outputs": [],
   "source": [
    "# 23\n",
    "with pd.ExcelWriter('resultat_OEL_MBE.xlsx', engine='openpyxl', mode='a') as writer:\n",
    "    dfprov.sort_values('code_province').to_excel(writer, sheet_name='province', index=False)"
   ]
  },
  {
   "cell_type": "code",
   "execution_count": 37,
   "metadata": {},
   "outputs": [
    {
     "data": {
      "text/html": [
       "<div>\n",
       "<style scoped>\n",
       "    .dataframe tbody tr th:only-of-type {\n",
       "        vertical-align: middle;\n",
       "    }\n",
       "\n",
       "    .dataframe tbody tr th {\n",
       "        vertical-align: top;\n",
       "    }\n",
       "\n",
       "    .dataframe thead th {\n",
       "        text-align: right;\n",
       "    }\n",
       "</style>\n",
       "<table border=\"1\" class=\"dataframe\">\n",
       "  <thead>\n",
       "    <tr style=\"text-align: right;\">\n",
       "      <th></th>\n",
       "      <th>code_region</th>\n",
       "      <th>nom_region</th>\n",
       "      <th>pop_t</th>\n",
       "      <th>pop_u</th>\n",
       "      <th>pop_r</th>\n",
       "      <th>pop_m</th>\n",
       "      <th>pop_f</th>\n",
       "      <th>NbMg_T</th>\n",
       "      <th>NbMg_U</th>\n",
       "      <th>NbMg_R</th>\n",
       "      <th>eau_t</th>\n",
       "      <th>elec_t</th>\n",
       "    </tr>\n",
       "  </thead>\n",
       "  <tbody>\n",
       "    <tr>\n",
       "      <th>0</th>\n",
       "      <td>7.0</td>\n",
       "      <td>Marrakech-Safi</td>\n",
       "      <td>4504767.0</td>\n",
       "      <td>1928525.0</td>\n",
       "      <td>2576242.0</td>\n",
       "      <td>2267818.0</td>\n",
       "      <td>2236949.0</td>\n",
       "      <td>928120.0</td>\n",
       "      <td>444856.0</td>\n",
       "      <td>483264.0</td>\n",
       "      <td>56.492146</td>\n",
       "      <td>87.558249</td>\n",
       "    </tr>\n",
       "    <tr>\n",
       "      <th>1</th>\n",
       "      <td>8.0</td>\n",
       "      <td>Draa-Tafilalet</td>\n",
       "      <td>1627269.0</td>\n",
       "      <td>555461.0</td>\n",
       "      <td>1071808.0</td>\n",
       "      <td>796405.0</td>\n",
       "      <td>830864.0</td>\n",
       "      <td>277998.0</td>\n",
       "      <td>114631.0</td>\n",
       "      <td>163367.0</td>\n",
       "      <td>75.608919</td>\n",
       "      <td>89.706438</td>\n",
       "    </tr>\n",
       "    <tr>\n",
       "      <th>2</th>\n",
       "      <td>9.0</td>\n",
       "      <td>Souss-Massa</td>\n",
       "      <td>2657906.0</td>\n",
       "      <td>1493198.0</td>\n",
       "      <td>1164708.0</td>\n",
       "      <td>1300313.0</td>\n",
       "      <td>1357593.0</td>\n",
       "      <td>601511.0</td>\n",
       "      <td>353802.0</td>\n",
       "      <td>247709.0</td>\n",
       "      <td>65.008580</td>\n",
       "      <td>89.586835</td>\n",
       "    </tr>\n",
       "    <tr>\n",
       "      <th>3</th>\n",
       "      <td>6.0</td>\n",
       "      <td>Grand Casablanca-Settat</td>\n",
       "      <td>6826773.0</td>\n",
       "      <td>5022475.0</td>\n",
       "      <td>1804298.0</td>\n",
       "      <td>3414102.0</td>\n",
       "      <td>3412671.0</td>\n",
       "      <td>1559404.0</td>\n",
       "      <td>1214427.0</td>\n",
       "      <td>344977.0</td>\n",
       "      <td>37.079278</td>\n",
       "      <td>89.549764</td>\n",
       "    </tr>\n",
       "    <tr>\n",
       "      <th>4</th>\n",
       "      <td>5.0</td>\n",
       "      <td>Béni Mellal-Khénifra</td>\n",
       "      <td>2512375.0</td>\n",
       "      <td>1233846.0</td>\n",
       "      <td>1278529.0</td>\n",
       "      <td>1236817.0</td>\n",
       "      <td>1275558.0</td>\n",
       "      <td>520174.0</td>\n",
       "      <td>287268.0</td>\n",
       "      <td>232906.0</td>\n",
       "      <td>48.743376</td>\n",
       "      <td>74.222914</td>\n",
       "    </tr>\n",
       "    <tr>\n",
       "      <th>5</th>\n",
       "      <td>4.0</td>\n",
       "      <td>Rabat-Salé-Kénitra</td>\n",
       "      <td>4552585.0</td>\n",
       "      <td>3172955.0</td>\n",
       "      <td>1379630.0</td>\n",
       "      <td>2262836.0</td>\n",
       "      <td>2289749.0</td>\n",
       "      <td>1015107.0</td>\n",
       "      <td>766852.0</td>\n",
       "      <td>248255.0</td>\n",
       "      <td>41.513117</td>\n",
       "      <td>82.324212</td>\n",
       "    </tr>\n",
       "    <tr>\n",
       "      <th>6</th>\n",
       "      <td>3.0</td>\n",
       "      <td>Fès-Meknès</td>\n",
       "      <td>4216957.0</td>\n",
       "      <td>2549791.0</td>\n",
       "      <td>1667166.0</td>\n",
       "      <td>2088237.0</td>\n",
       "      <td>2128720.0</td>\n",
       "      <td>919497.0</td>\n",
       "      <td>600113.0</td>\n",
       "      <td>319384.0</td>\n",
       "      <td>42.731149</td>\n",
       "      <td>85.470818</td>\n",
       "    </tr>\n",
       "    <tr>\n",
       "      <th>7</th>\n",
       "      <td>2.0</td>\n",
       "      <td>Oriental</td>\n",
       "      <td>2302182.0</td>\n",
       "      <td>1504517.0</td>\n",
       "      <td>797665.0</td>\n",
       "      <td>1141574.0</td>\n",
       "      <td>1160608.0</td>\n",
       "      <td>494530.0</td>\n",
       "      <td>338419.0</td>\n",
       "      <td>156111.0</td>\n",
       "      <td>42.848542</td>\n",
       "      <td>78.838358</td>\n",
       "    </tr>\n",
       "    <tr>\n",
       "      <th>8</th>\n",
       "      <td>1.0</td>\n",
       "      <td>Tanger-Tétouan-Al Hoceima</td>\n",
       "      <td>3540012.0</td>\n",
       "      <td>2120666.0</td>\n",
       "      <td>1419346.0</td>\n",
       "      <td>1795813.0</td>\n",
       "      <td>1744199.0</td>\n",
       "      <td>799124.0</td>\n",
       "      <td>525168.0</td>\n",
       "      <td>273956.0</td>\n",
       "      <td>28.556493</td>\n",
       "      <td>90.014054</td>\n",
       "    </tr>\n",
       "    <tr>\n",
       "      <th>9</th>\n",
       "      <td>10.0</td>\n",
       "      <td>Guelmim-Oued Noun</td>\n",
       "      <td>414489.0</td>\n",
       "      <td>270419.0</td>\n",
       "      <td>144070.0</td>\n",
       "      <td>201862.0</td>\n",
       "      <td>212627.0</td>\n",
       "      <td>90202.0</td>\n",
       "      <td>60873.0</td>\n",
       "      <td>29329.0</td>\n",
       "      <td>55.536448</td>\n",
       "      <td>79.246405</td>\n",
       "    </tr>\n",
       "    <tr>\n",
       "      <th>10</th>\n",
       "      <td>11.0</td>\n",
       "      <td>Laayoune-Sakia El Hamra</td>\n",
       "      <td>340748.0</td>\n",
       "      <td>330485.0</td>\n",
       "      <td>10263.0</td>\n",
       "      <td>175687.0</td>\n",
       "      <td>165061.0</td>\n",
       "      <td>78754.0</td>\n",
       "      <td>75865.0</td>\n",
       "      <td>2889.0</td>\n",
       "      <td>45.795487</td>\n",
       "      <td>54.104189</td>\n",
       "    </tr>\n",
       "    <tr>\n",
       "      <th>11</th>\n",
       "      <td>12.0</td>\n",
       "      <td>Eddakhla-Oued Eddahab</td>\n",
       "      <td>114021.0</td>\n",
       "      <td>102098.0</td>\n",
       "      <td>11923.0</td>\n",
       "      <td>66058.0</td>\n",
       "      <td>47963.0</td>\n",
       "      <td>29385.0</td>\n",
       "      <td>25469.0</td>\n",
       "      <td>3916.0</td>\n",
       "      <td>15.463551</td>\n",
       "      <td>23.433937</td>\n",
       "    </tr>\n",
       "  </tbody>\n",
       "</table>\n",
       "</div>"
      ],
      "text/plain": [
       "    code_region                 nom_region      pop_t      pop_u      pop_r  \\\n",
       "0           7.0             Marrakech-Safi  4504767.0  1928525.0  2576242.0   \n",
       "1           8.0             Draa-Tafilalet  1627269.0   555461.0  1071808.0   \n",
       "2           9.0                Souss-Massa  2657906.0  1493198.0  1164708.0   \n",
       "3           6.0    Grand Casablanca-Settat  6826773.0  5022475.0  1804298.0   \n",
       "4           5.0       Béni Mellal-Khénifra  2512375.0  1233846.0  1278529.0   \n",
       "5           4.0         Rabat-Salé-Kénitra  4552585.0  3172955.0  1379630.0   \n",
       "6           3.0                 Fès-Meknès  4216957.0  2549791.0  1667166.0   \n",
       "7           2.0                   Oriental  2302182.0  1504517.0   797665.0   \n",
       "8           1.0  Tanger-Tétouan-Al Hoceima  3540012.0  2120666.0  1419346.0   \n",
       "9          10.0          Guelmim-Oued Noun   414489.0   270419.0   144070.0   \n",
       "10         11.0    Laayoune-Sakia El Hamra   340748.0   330485.0    10263.0   \n",
       "11         12.0      Eddakhla-Oued Eddahab   114021.0   102098.0    11923.0   \n",
       "\n",
       "        pop_m      pop_f     NbMg_T     NbMg_U    NbMg_R      eau_t     elec_t  \n",
       "0   2267818.0  2236949.0   928120.0   444856.0  483264.0  56.492146  87.558249  \n",
       "1    796405.0   830864.0   277998.0   114631.0  163367.0  75.608919  89.706438  \n",
       "2   1300313.0  1357593.0   601511.0   353802.0  247709.0  65.008580  89.586835  \n",
       "3   3414102.0  3412671.0  1559404.0  1214427.0  344977.0  37.079278  89.549764  \n",
       "4   1236817.0  1275558.0   520174.0   287268.0  232906.0  48.743376  74.222914  \n",
       "5   2262836.0  2289749.0  1015107.0   766852.0  248255.0  41.513117  82.324212  \n",
       "6   2088237.0  2128720.0   919497.0   600113.0  319384.0  42.731149  85.470818  \n",
       "7   1141574.0  1160608.0   494530.0   338419.0  156111.0  42.848542  78.838358  \n",
       "8   1795813.0  1744199.0   799124.0   525168.0  273956.0  28.556493  90.014054  \n",
       "9    201862.0   212627.0    90202.0    60873.0   29329.0  55.536448  79.246405  \n",
       "10   175687.0   165061.0    78754.0    75865.0    2889.0  45.795487  54.104189  \n",
       "11    66058.0    47963.0    29385.0    25469.0    3916.0  15.463551  23.433937  "
      ]
     },
     "execution_count": 37,
     "metadata": {},
     "output_type": "execute_result"
    }
   ],
   "source": [
    "# 24\n",
    "cols = ['code_region', 'nom_region', 'pop_t', 'pop_u', 'pop_r', 'pop_m', 'pop_f',\n",
    "        'NbMg_T', 'NbMg_U', 'NbMg_R', 'eau_t', 'elec_t']\n",
    "\n",
    "code_reg = dfcom['code_region'].unique()\n",
    "dfreg = pd.DataFrame(columns=cols)\n",
    "data = {}\n",
    "\n",
    "for code in code_reg:\n",
    "    \n",
    "    data['code_region'] = code\n",
    "    data['nom_region'] =  dfcom['nom_region'][(dfcom['code_region']==code)].iloc[0]\n",
    "    \n",
    "    data['pop_r'] = dfcom['pop_t'][(dfcom['code_region']==code) & (dfcom['type_commune'] == 'Rural')].sum()\n",
    "    data['pop_u'] = dfcom['pop_t'][(dfcom['code_region']==code) & (dfcom['type_commune'] != 'Rural')].sum()\n",
    "    data['pop_t'] = data['pop_r'] + data['pop_u']\n",
    "    \n",
    "    data['pop_m'] = dfcom['pop_m'][(dfcom['code_region']==code)].sum()\n",
    "    data['pop_f'] = dfcom['pop_f'][(dfcom['code_region']==code)].sum()\n",
    "    \n",
    "    data['NbMg_R'] = dfcom['NbMg_T'][(dfcom['code_region']==code) & (dfcom['type_commune'] == 'Rural')].sum()\n",
    "    data['NbMg_U'] = dfcom['NbMg_T'][(dfcom['code_region']==code) & (dfcom['type_commune'] != 'Rural')].sum()\n",
    "    data['NbMg_T'] = data['NbMg_R'] + data['NbMg_U'] \n",
    "    \n",
    "    data['eau_t'] = dfcom['eau_t'][(dfcom['code_region']==code)].mean()\n",
    "    data['elec_t'] = dfcom['elec_t'][(dfcom['code_region']==code)].mean()\n",
    "    \n",
    "    dfreg = dfreg.append(data, ignore_index=True)\n",
    "\n",
    "dfreg"
   ]
  },
  {
   "cell_type": "code",
   "execution_count": 38,
   "metadata": {
    "scrolled": false
   },
   "outputs": [
    {
     "data": {
      "image/png": "[encoded data removed]",
      "text/plain": [
       "<Figure size 432x288 with 1 Axes>"
      ]
     },
     "metadata": {
      "needs_background": "light"
     },
     "output_type": "display_data"
    }
   ],
   "source": [
    "# 25\n",
    "fig = plt.figure()\n",
    "axes = fig.add_axes([0,0,2,1])\n",
    "dfreg.plot.bar(x='nom_region', y=['pop_m', 'pop_f'], ax=axes, stacked=True, color=['cyan', 'pink'])\n",
    "dfreg.plot.bar(x='nom_region', y='pop_t', ax=axes, stacked=True, color='white', hatch='/'*3, edgecolor='black', alpha=0.2)\n",
    "dfreg.plot(x='nom_region', y='pop_u', ax=axes, color='blue', style='.-', ms=15)\n",
    "dfreg.plot(x='nom_region', y='pop_r', ax=axes, color='red', style='.-', ms=15)\n",
    "\n",
    "axes.legend(loc='upper right')\n",
    "plt.ylabel(\"Nombre d'habitant\")\n",
    "plt.xlabel(None)\n",
    "plt.xticks(rotation=-45)\n",
    "plt.title(label=\"Répartition de la population par milieu et par genre selon les régions\",\n",
    "          fontweight='bold')\n",
    "axes.set_axisbelow(True)\n",
    "axes.grid(alpha=0.2)\n",
    "plt.show()\n"
   ]
  },
  {
   "cell_type": "code",
   "execution_count": 39,
   "metadata": {},
   "outputs": [],
   "source": [
    "# 26\n",
    "with pd.ExcelWriter('resultat_OEL_MBE.xlsx', engine='openpyxl', mode='a') as writer:\n",
    "    dfreg.sort_values('code_region').to_excel(writer, sheet_name='region', index=False)"
   ]
  }
 ],
 "metadata": {
  "kernelspec": {
   "display_name": "Python 3",
   "language": "python",
   "name": "python3"
  },
  "language_info": {
   "codemirror_mode": {
    "name": "ipython",
    "version": 3
   },
   "file_extension": ".py",
   "mimetype": "text/x-python",
   "name": "python",
   "nbconvert_exporter": "python",
   "pygments_lexer": "ipython3",
   "version": "3.7.6"
  }
 },
 "nbformat": 4,
 "nbformat_minor": 4
}
